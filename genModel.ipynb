{
 "cells": [
  {
   "cell_type": "code",
   "execution_count": null,
   "id": "726c66fe",
   "metadata": {},
   "outputs": [],
   "source": [
    "import pandas as pd\n",
    "import numpy as np\n",
    "from sklearn.model_selection import train_test_split\n",
    "from sklearn.metrics import mean_squared_error\n",
    "from sklearn.ensemble import RandomForestRegressor\n",
    "import pickle"
   ]
  },
  {
   "cell_type": "code",
   "execution_count": null,
   "id": "03c00371",
   "metadata": {},
   "outputs": [],
   "source": [
    "data = pd.read_csv('alldata.csv')\n",
    "data.head(5)"
   ]
  },
  {
   "cell_type": "code",
   "execution_count": null,
   "id": "aabbd3e2",
   "metadata": {},
   "outputs": [],
   "source": [
    "data.describe()"
   ]
  },
  {
   "cell_type": "code",
   "execution_count": null,
   "id": "2d3c9c05",
   "metadata": {},
   "outputs": [],
   "source": [
    "X = data.drop('fiyat',axis =1).values\n",
    "y = data['fiyat'].values"
   ]
  },
  {
   "cell_type": "code",
   "execution_count": null,
   "id": "dfc337d0",
   "metadata": {},
   "outputs": [],
   "source": [
    "min = 1000000000000\n",
    "for i in range(100):\n",
    "    X_train, X_test, y_train, y_test = train_test_split(X, y, test_size=0.20, random_state=i)\n",
    "    for j in range(100):\n",
    "      regressor = RandomForestRegressor(n_estimators = 100, random_state = j)\n",
    "      regressor.fit(X_train, y_train)\n",
    "\n",
    "      y_pred = regressor.predict(X_test)\n",
    "      result = mean_squared_error(y_test, y_pred)\n",
    "      print(result)\n",
    "      if(result<min):\n",
    "          min = result\n",
    "          filename = 'randomforest_{0:.4f}_{1}_{2}.sav'.format(result,i,j)\n",
    "          pickle.dump(regressor, open(filename, 'wb'))"
   ]
  }
 ],
 "metadata": {
  "kernelspec": {
   "display_name": "Python 3 (ipykernel)",
   "language": "python",
   "name": "python3"
  },
  "language_info": {
   "codemirror_mode": {
    "name": "ipython",
    "version": 3
   },
   "file_extension": ".py",
   "mimetype": "text/x-python",
   "name": "python",
   "nbconvert_exporter": "python",
   "pygments_lexer": "ipython3",
   "version": "3.9.7"
  },
  "vscode": {
   "interpreter": {
    "hash": "c0dd8ca7dbe395e769a2ba950e97aeeb244506e8dca4336b457945612b5bb06c"
   }
  }
 },
 "nbformat": 4,
 "nbformat_minor": 5
}
